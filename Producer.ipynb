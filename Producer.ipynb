{
 "cells": [
  {
   "cell_type": "code",
   "execution_count": 1,
   "id": "9cc1def7",
   "metadata": {},
   "outputs": [
    {
     "name": "stdout",
     "output_type": "stream",
     "text": [
      "Defaulting to user installation because normal site-packages is not writeable\n",
      "Requirement already satisfied: kafka-python in /home/muhammadmudassirraza/.local/lib/python3.10/site-packages (2.0.2)\n",
      "Note: you may need to restart the kernel to use updated packages.\n"
     ]
    }
   ],
   "source": [
    "pip install kafka-python"
   ]
  },
  {
   "cell_type": "code",
   "execution_count": 2,
   "id": "44368993",
   "metadata": {},
   "outputs": [],
   "source": [
    "from bs4 import BeautifulSoup\n",
    "import requests\n",
    "import time\n",
    "import datetime\n",
    "import pandas as pd\n",
    "import argparse\n",
    "import json\n",
    "from json import dumps\n",
    "from time import sleep\n",
    "from kafka import KafkaProducer\n",
    " "
   ]
  },
  {
   "cell_type": "code",
   "execution_count": 3,
   "id": "822dc645",
   "metadata": {},
   "outputs": [],
   "source": [
    "\n",
    "producer = KafkaProducer(\n",
    "    # for local machine\n",
    "    bootstrap_servers=['localhost:9092'], #change ip here\n",
    "    # bootstrap_servers=['{add your EC2 instance public ip here}:9092']  #for ec2\n",
    "    value_serializer=lambda x:dumps(x).encode('utf-8'))\n",
    "\n",
    " \n",
    " "
   ]
  },
  {
   "cell_type": "code",
   "execution_count": 4,
   "id": "8537283c",
   "metadata": {},
   "outputs": [],
   "source": [
    "# headers = {\n",
    "#     'User-Agent':'(Mozilla/5.0 (Macintosh; Intel Mac OS X 10_15_7) AppleWebKit/605.1.15 (KHTML, like Gecko) Version/16.1 Safari/605.1.15)'\n",
    "#     }"
   ]
  },
  {
   "cell_type": "code",
   "execution_count": null,
   "id": "8268c0ba-3ab4-4eae-aef0-2fd4fdd08690",
   "metadata": {},
   "outputs": [],
   "source": [
    "\n",
    "def scrape_data(url):\n",
    "    allRecordsCombined = []\n",
    "    for page in range(1,10):\n",
    "        response = requests.get(url+str(page))\n",
    "        soup = BeautifulSoup(response.content,'html.parser')\n",
    "        current_timestamp = datetime.datetime.now() \n",
    "        treeTag = soup.find_all('tr')\n",
    "        for tree in treeTag[1:]:\n",
    "            rank = tree.find('td',{'class': 'css-w6jew4'}).get_text()\n",
    "            name = tree.find('p',{'css-rkws3'}).get_text()\n",
    "            symbol = tree.find('span',{'class':'css-1jj7b1a'}).get_text()\n",
    "            market_cap = tree.find('td',{'class':'css-15lyn3l'}).get_text()\n",
    "            price_arr = str(tree.find('div',{'class':'css-16q9pr7'}).get_text())\n",
    "            if('-' in price_arr):\n",
    "                price_arr = price_arr.split('-')\n",
    "                change_24h = '-'+price_arr[1]\n",
    "            else:\n",
    "                price_arr = price_arr.split('+')\n",
    "                change_24h = '+'+price_arr[1]\n",
    "            price = price_arr[0]\n",
    "            volume_24 = tree.find('td',{'class':'css-15lyn3l'}).get_text()\n",
    "            current_timestamp_str = current_timestamp.strftime('%Y-%m-%d %H:%M:%S')\n",
    "            allRecordsCombined.append([current_timestamp_str, rank, name, symbol, price, change_24h, volume_24, market_cap])\n",
    "            \n",
    "        #print('\\n','\\n','\\n','\\n','\\n','page N0 :',page,allRecordsCombined,'\\n','\\n','\\n','\\n','\\n')\n",
    "\n",
    "    columns = ['SYSTEM_INSERTED_TIMESTAMP', 'RANK','NAME', 'SYMBOL', 'PRICE', 'PERCENT_CHANGE_24H','VOLUME_24H', 'MARKET_CAP']\n",
    "    df = pd.DataFrame(columns=columns, data=allRecordsCombined)\n",
    "    while True:\n",
    "        for row in df.iterrows():\n",
    "            dict_stock = row[1].to_dict()\n",
    "            producer.send('demo_testing2', value=dict_stock)\n",
    "            # print(dict_stock, '\\n')\n",
    "            sleep(1)\n",
    "\n",
    "    # producer.flush()\n",
    "scrape_data('https://crypto.com/price?page=')    \n",
    " "
   ]
  },
  {
   "cell_type": "code",
   "execution_count": null,
   "id": "78dd0ad7-f278-4ae7-9993-8130103c1bdf",
   "metadata": {},
   "outputs": [],
   "source": [
    "# producer.flush()"
   ]
  }
 ],
 "metadata": {
  "kernelspec": {
   "display_name": "Python 3",
   "language": "python",
   "name": "python3"
  },
  "language_info": {
   "codemirror_mode": {
    "name": "ipython",
    "version": 3
   },
   "file_extension": ".py",
   "mimetype": "text/x-python",
   "name": "python",
   "nbconvert_exporter": "python",
   "pygments_lexer": "ipython3",
   "version": "3.10.11 (tags/v3.10.11:7d4cc5a, Apr  5 2023, 00:38:17) [MSC v.1929 64 bit (AMD64)]"
  },
  "vscode": {
   "interpreter": {
    "hash": "ee3b0ad963f2d2f17e2cc2e01512554ff0b8251f3de44bc0f009c2d242fab818"
   }
  }
 },
 "nbformat": 4,
 "nbformat_minor": 5
}
